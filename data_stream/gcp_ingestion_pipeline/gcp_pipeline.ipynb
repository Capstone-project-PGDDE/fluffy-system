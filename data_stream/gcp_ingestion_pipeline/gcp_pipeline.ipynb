{
 "cells": [
  {
   "cell_type": "code",
   "execution_count": 1,
   "metadata": {},
   "outputs": [],
   "source": [
    "import pandas as pd\n",
    "import gcsfs\n",
    "import os\n",
    "import pytz\n",
    "import uuid\n",
    "from datetime import datetime\n",
    "import numpy as np\n",
    "import apache_beam as beam\n",
    "from apache_beam.options.pipeline_options import PipelineOptions,SetupOptions\n",
    "from google.cloud import bigquery,secretmanager\n",
    "from pandas_gbq import schema"
   ]
  },
  {
   "cell_type": "code",
   "execution_count": null,
   "metadata": {},
   "outputs": [],
   "source": [
    "\n",
    "gcs_file_path = \"gs://input_data_capstone/input_data/cleaned_data.csv\"\n",
    "bigquery_client = bigquery.Client()"
   ]
  },
  {
   "cell_type": "code",
   "execution_count": 2,
   "metadata": {},
   "outputs": [],
   "source": [
    "# Configuration\n",
    "BUCKET_NAME = 'input_data_capstone'\n",
    "CSV_FILE_NAME = 'input_data/cleaned_data.csv'\n",
    "BQ_DATASET = 'CAPSTONE_PROJECT'\n",
    "BQ_TABLE = 'HOTEL_BOOKING'\n",
    "BQ_PROJECT = \"iitj-capstone-project-group-18\"\n",
    "BIGQUERY_SCHEMA ={'fields': [{'name': 'guid', 'type': 'STRING', \"mode\": \"NULLABLE\"},\n",
    "  {'name': 'hotel', 'type': 'STRING', \"mode\": \"NULLABLE\"},\n",
    "  {'name': 'is_canceled', 'type': 'INTEGER', \"mode\": \"NULLABLE\"},\n",
    "  {'name': 'lead_time', 'type': 'INTEGER', \"mode\": \"NULLABLE\"},\n",
    "  {'name': 'arrival_date_year', 'type': 'INTEGER', \"mode\": \"NULLABLE\"},\n",
    "  {'name': 'arrival_date_month', 'type': 'STRING', \"mode\": \"NULLABLE\"},\n",
    "  {'name': 'arrival_date_week_number', 'type': 'INTEGER', \"mode\": \"NULLABLE\"},\n",
    "  {'name': 'arrival_date_day_of_month', 'type': 'INTEGER', \"mode\": \"NULLABLE\"},\n",
    "  {'name': 'stays_in_weekend_nights', 'type': 'INTEGER', \"mode\": \"NULLABLE\"},\n",
    "  {'name': 'stays_in_week_nights', 'type': 'INTEGER', \"mode\": \"NULLABLE\"},\n",
    "  {'name': 'adults', 'type': 'INTEGER', \"mode\": \"NULLABLE\"},\n",
    "  {'name': 'children', 'type': 'FLOAT', \"mode\": \"NULLABLE\"},\n",
    "  {'name': 'babies', 'type': 'INTEGER', \"mode\": \"NULLABLE\"},\n",
    "  {'name': 'meal', 'type': 'STRING', \"mode\": \"NULLABLE\"},\n",
    "  {'name': 'country', 'type': 'STRING', \"mode\": \"NULLABLE\"},\n",
    "  {'name': 'market_segment', 'type': 'STRING', \"mode\": \"NULLABLE\"},\n",
    "  {'name': 'distribution_channel', 'type': 'STRING', \"mode\": \"NULLABLE\"},\n",
    "  {'name': 'is_repeated_guest', 'type': 'INTEGER', \"mode\": \"NULLABLE\"},\n",
    "  {'name': 'previous_cancellations', 'type': 'INTEGER', \"mode\": \"NULLABLE\"},\n",
    "  {'name': 'previous_bookings_not_canceled', 'type': 'INTEGER', \"mode\": \"NULLABLE\"},\n",
    "  {'name': 'reserved_room_type', 'type': 'STRING', \"mode\": \"NULLABLE\"},\n",
    "  {'name': 'assigned_room_type', 'type': 'STRING', \"mode\": \"NULLABLE\"},\n",
    "  {'name': 'booking_changes', 'type': 'INTEGER', \"mode\": \"NULLABLE\"},\n",
    "  {'name': 'deposit_type', 'type': 'STRING', \"mode\": \"NULLABLE\"},\n",
    "  {'name': 'agent', 'type': 'STRING', \"mode\": \"NULLABLE\"},\n",
    "  {'name': 'company', 'type': 'STRING', \"mode\": \"NULLABLE\"},\n",
    "  {'name': 'days_in_waiting_list', 'type': 'INTEGER', \"mode\": \"NULLABLE\"},\n",
    "  {'name': 'customer_type', 'type': 'STRING', \"mode\": \"NULLABLE\"},\n",
    "  {'name': 'adr', 'type': 'FLOAT', \"mode\": \"NULLABLE\"},\n",
    "  {'name': 'required_car_parking_spaces', 'type': 'INTEGER', \"mode\": \"NULLABLE\"},\n",
    "  {'name': 'total_of_special_requests', 'type': 'INTEGER', \"mode\": \"NULLABLE\"},\n",
    "  {'name': 'reservation_status', 'type': 'STRING', \"mode\": \"NULLABLE\"},\n",
    "  {'name': 'reservation_status_date', 'type': 'STRING', \"mode\": \"NULLABLE\"},\n",
    "  {'name': 'insert_timestamp', 'type': 'TIMESTAMP', \"mode\": \"NULLABLE\"}]}"
   ]
  },
  {
   "cell_type": "code",
   "execution_count": null,
   "metadata": {},
   "outputs": [],
   "source": [
    "input_df = pd.read_csv(gcs_file_path)"
   ]
  },
  {
   "cell_type": "code",
   "execution_count": 3,
   "metadata": {},
   "outputs": [],
   "source": [
    "def generate_synthetic_data(input_df,num_synthetic_samples):\n",
    "    synthetic_data = pd.DataFrame()\n",
    "    for column in input_df.columns:\n",
    "        synthetic_data[column] = np.random.choice(input_df[column], size=num_synthetic_samples, replace=True)\n",
    "    # Add GUID and timestamp to the synthetic data\n",
    "    guid = str(uuid.uuid4())  # Generate a unique GUID as a string\n",
    "    UTC = pytz.utc\n",
    "    ind_zone = pytz.timezone('Asia/Kolkata')\n",
    "    insert_timestamp = datetime.now(ind_zone)  # Current timestamp in IST\n",
    "    synthetic_data['guid'] = guid\n",
    "    synthetic_data['insert_timestamp'] = insert_timestamp\n",
    "    synthetic_data = synthetic_data.drop('Unnamed: 0', axis=1)\n",
    "    return synthetic_data"
   ]
  },
  {
   "cell_type": "code",
   "execution_count": null,
   "metadata": {},
   "outputs": [],
   "source": [
    "synthetic_df = generate_synthetic_data(input_df, 60)\n",
    "records = synthetic_df.to_dict(orient='records')"
   ]
  },
  {
   "cell_type": "code",
   "execution_count": null,
   "metadata": {},
   "outputs": [],
   "source": [
    "options = PipelineOptions(\n",
    "        project=BQ_PROJECT,\n",
    "        temp_location=f'gs://dataflow-apache-quickstart_iitj-capstone-project-group-18/temp',\n",
    "        region='asia-south1',  \n",
    "        runner='DataflowRunner' ,\n",
    "        job_name=\"ingestion-pipeline\" \n",
    "    )"
   ]
  },
  {
   "cell_type": "code",
   "execution_count": null,
   "metadata": {},
   "outputs": [],
   "source": [
    "with beam.Pipeline(options=options) as p:\n",
    "        (\n",
    "            p\n",
    "            | 'Create Records' >> beam.Create(records)\n",
    "            | 'Write to BigQuery' >> beam.io.WriteToBigQuery(\n",
    "                table=f\"iitj-capstone-project-group-18:CAPSTONE_PROJECT.HOTEL_BOOKING\",\n",
    "                schema=BIGQUERY_SCHEMA,\n",
    "                write_disposition=beam.io.BigQueryDisposition.WRITE_APPEND,\n",
    "                create_disposition=beam.io.BigQueryDisposition.CREATE_IF_NEEDED\n",
    "            )\n",
    "        )"
   ]
  }
 ],
 "metadata": {
  "kernelspec": {
   "display_name": "Python 3",
   "language": "python",
   "name": "python3"
  },
  "language_info": {
   "codemirror_mode": {
    "name": "ipython",
    "version": 3
   },
   "file_extension": ".py",
   "mimetype": "text/x-python",
   "name": "python",
   "nbconvert_exporter": "python",
   "pygments_lexer": "ipython3",
   "version": "3.11.5"
  }
 },
 "nbformat": 4,
 "nbformat_minor": 2
}
