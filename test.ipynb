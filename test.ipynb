{
 "cells": [
  {
   "cell_type": "code",
   "execution_count": 2,
   "metadata": {},
   "outputs": [],
   "source": [
    "from google.cloud import storage\n",
    "import pandas as pd\n",
    "import os"
   ]
  },
  {
   "cell_type": "code",
   "execution_count": 3,
   "metadata": {},
   "outputs": [
    {
     "name": "stdout",
     "output_type": "stream",
     "text": [
      "C:\\Users\\GOD\\Downloads\\iitj-capstone-project-group-18-0f9b346ab188.json\n"
     ]
    }
   ],
   "source": [
    "print(os.getenv('GCP_BUCKET'))"
   ]
  },
  {
   "cell_type": "code",
   "execution_count": null,
   "metadata": {},
   "outputs": [
    {
     "name": "stdout",
     "output_type": "stream",
     "text": [
      "   Unnamed: 0         hotel  is_canceled  lead_time  arrival_date_year  \\\n",
      "0           0  Resort Hotel            0        342               2015   \n",
      "1           1  Resort Hotel            0        737               2015   \n",
      "2           2  Resort Hotel            0          7               2015   \n",
      "3           3  Resort Hotel            0         13               2015   \n",
      "4           4  Resort Hotel            0         14               2015   \n",
      "\n",
      "  arrival_date_month  arrival_date_week_number  arrival_date_day_of_month  \\\n",
      "0               July                        27                          1   \n",
      "1               July                        27                          1   \n",
      "2               July                        27                          1   \n",
      "3               July                        27                          1   \n",
      "4               July                        27                          1   \n",
      "\n",
      "   stays_in_weekend_nights  stays_in_week_nights  ...  deposit_type    agent  \\\n",
      "0                        0                     0  ...    No Deposit  Unknown   \n",
      "1                        0                     0  ...    No Deposit  Unknown   \n",
      "2                        0                     1  ...    No Deposit  Unknown   \n",
      "3                        0                     1  ...    No Deposit    304.0   \n",
      "4                        0                     2  ...    No Deposit    240.0   \n",
      "\n",
      "   company days_in_waiting_list customer_type   adr  \\\n",
      "0  Unknown                    0     Transient   0.0   \n",
      "1  Unknown                    0     Transient   0.0   \n",
      "2  Unknown                    0     Transient  75.0   \n",
      "3  Unknown                    0     Transient  75.0   \n",
      "4  Unknown                    0     Transient  98.0   \n",
      "\n",
      "  required_car_parking_spaces  total_of_special_requests  reservation_status  \\\n",
      "0                           0                          0           Check-Out   \n",
      "1                           0                          0           Check-Out   \n",
      "2                           0                          0           Check-Out   \n",
      "3                           0                          0           Check-Out   \n",
      "4                           0                          1           Check-Out   \n",
      "\n",
      "   reservation_status_date  \n",
      "0               2015-07-01  \n",
      "1               2015-07-01  \n",
      "2               2015-07-02  \n",
      "3               2015-07-02  \n",
      "4               2015-07-03  \n",
      "\n",
      "[5 rows x 33 columns]\n"
     ]
    }
   ],
   "source": [
    "from google.cloud import storage\n",
    "import pandas as pd\n",
    "import io\n",
    "from google.oauth2 import service_account\n",
    "def load_data_from_gcs_to_dataframe(bucket_name, source_blob_name):\n",
    "    \"\"\"\n",
    "    Load a dataset from a GCP bucket directly into a pandas DataFrame.\n",
    "\n",
    "    Args:\n",
    "        bucket_name (str): Name of the GCP bucket.\n",
    "        source_blob_name (str): Name of the file in the bucket.\n",
    "\n",
    "    Returns:\n",
    "        DataFrame: The dataset loaded as a pandas DataFrame.\n",
    "    \"\"\"\n",
    "    credentials = service_account.Credentials.from_service_account_file(os.getenv('GCP_BUCKET'))\n",
    "    client = storage.Client(credentials=credentials)\n",
    "    bucket = client.bucket(bucket_name)\n",
    "    blob = bucket.blob(source_blob_name)\n",
    "    data = blob.download_as_bytes()\n",
    "    dataframe = pd.read_csv(io.BytesIO(data))\n",
    "    \n",
    "    return dataframe\n",
    "bucket_name = \"input_data_capstone\"  \n",
    "source_blob_name = \"input_data/cleaned_data.csv\" \n",
    "dataframe = load_data_from_gcs_to_dataframe(bucket_name, source_blob_name)\n",
    "print(dataframe.head())\n"
   ]
  },
  {
   "cell_type": "code",
   "execution_count": 12,
   "metadata": {},
   "outputs": [
    {
     "name": "stdout",
     "output_type": "stream",
     "text": [
      "Google Cloud Storage client initialized successfully!\n",
      "Buckets: ['dataflow-apache-quickstart_iitj-capstone-project-group-18', 'input_data_capstone']\n"
     ]
    }
   ],
   "source": [
    "from google.cloud import storage\n",
    "from google.oauth2 import service_account\n",
    "\n",
    "def get_storage_client_with_custom_credentials(custom_credentials_path):\n",
    "    \"\"\"\n",
    "    Initialize Google Cloud Storage client with custom credentials, bypassing GOOGLE_APPLICATION_CREDENTIALS.\n",
    "\n",
    "    Args:\n",
    "        custom_credentials_path (str): Path to the custom service account JSON file.\n",
    "\n",
    "    Returns:\n",
    "        storage.Client: An authenticated Google Cloud Storage client.\n",
    "    \"\"\"\n",
    "    # Load credentials explicitly from the custom path\n",
    "    credentials = service_account.Credentials.from_service_account_file(custom_credentials_path)\n",
    "\n",
    "    # Initialize and return the storage client\n",
    "    return storage.Client(credentials=credentials)\n",
    "\n",
    "# Configuration\n",
    "custom_credentials_path = os.getenv('GCP_BUCKET')\n",
    "\n",
    "# Use the client\n",
    "client = get_storage_client_with_custom_credentials(custom_credentials_path)\n",
    "print(\"Google Cloud Storage client initialized successfully!\")\n",
    "\n",
    "# Example: List buckets\n",
    "buckets = list(client.list_buckets())\n",
    "print(\"Buckets:\", [bucket.name for bucket in buckets])\n"
   ]
  }
 ],
 "metadata": {
  "kernelspec": {
   "display_name": "Python 3",
   "language": "python",
   "name": "python3"
  },
  "language_info": {
   "codemirror_mode": {
    "name": "ipython",
    "version": 3
   },
   "file_extension": ".py",
   "mimetype": "text/x-python",
   "name": "python",
   "nbconvert_exporter": "python",
   "pygments_lexer": "ipython3",
   "version": "3.11.5"
  }
 },
 "nbformat": 4,
 "nbformat_minor": 2
}
